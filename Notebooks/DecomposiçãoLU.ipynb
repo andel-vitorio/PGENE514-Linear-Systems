{
 "cells": [
  {
   "cell_type": "code",
   "execution_count": 2,
   "metadata": {},
   "outputs": [],
   "source": [
    "import numpy as np"
   ]
  },
  {
   "cell_type": "code",
   "execution_count": 6,
   "metadata": {},
   "outputs": [],
   "source": [
    "def lu_decomposition(A):\n",
    "  A = np.array(A)\n",
    "\n",
    "  rows, cols = A.shape\n",
    "  L = np.zeros(A.shape)\n",
    "  U = np.zeros(A.shape)\n",
    "\n",
    "  for i in range(rows):\n",
    "    # Calcula a matriz U\n",
    "    for j in range(i, cols):\n",
    "      sum = 0\n",
    "      for k in range(i):\n",
    "        sum += L[i][k] * U[k][j]\n",
    "      # print(U[i][j])\n",
    "      U[i][j] = A[i][j] - sum\n",
    "\n",
    "    # Calcula a matriz L\n",
    "    for j in range(i, rows):\n",
    "      if i == j:\n",
    "        L[i][i] = 1\n",
    "      else:\n",
    "        sum = 0\n",
    "        for k in range(i):\n",
    "          sum += L[j][k] * U[k][i]\n",
    "        L[j][i] = (A[j][i] - sum) / U[i][i]\n",
    "  return L, U"
   ]
  },
  {
   "cell_type": "code",
   "execution_count": 7,
   "metadata": {},
   "outputs": [
    {
     "name": "stdout",
     "output_type": "stream",
     "text": [
      "[[ 1.          0.          0.          0.          0.          0.        ]\n",
      " [-0.5         1.          0.          0.          0.          0.        ]\n",
      " [ 0.         -0.4         1.          0.          0.          0.        ]\n",
      " [ 0.          0.         -0.27777778  1.          0.          0.        ]\n",
      " [ 0.          0.          0.         -0.26865672  1.          0.        ]\n",
      " [ 0.          0.4         0.11111111  0.02985075 -0.51351351  1.        ]]\n",
      "\n",
      "[[ 2.         -1.          0.          0.          0.          0.        ]\n",
      " [ 0.          2.5        -1.          0.          1.          0.        ]\n",
      " [ 0.          0.          3.6        -1.          0.4         0.        ]\n",
      " [ 0.          0.          0.          3.72222222 -0.88888889  0.        ]\n",
      " [ 0.          0.          0.          0.          2.76119403 -1.        ]\n",
      " [ 0.          0.          0.          0.          0.          1.48648649]]\n"
     ]
    }
   ],
   "source": [
    "A = [[2, -1, 0, 0, 0, 0],\n",
    "     [-1, 3, -1, 0, 1, 0],\n",
    "     [0, -1, 4, -1, 0, 0],\n",
    "     [0, 0, -1, 4, -1, 0],\n",
    "     [0, 0, 0, -1, 3, -1],\n",
    "     [0, 1, 0, 0, -1, 2]]\n",
    "\n",
    "L, U = lu_decomposition(A)\n",
    "\n",
    "print(L)\n",
    "print(\"\")\n",
    "print(U)"
   ]
  }
 ],
 "metadata": {
  "kernelspec": {
   "display_name": "Python 3",
   "language": "python",
   "name": "python3"
  },
  "language_info": {
   "codemirror_mode": {
    "name": "ipython",
    "version": 3
   },
   "file_extension": ".py",
   "mimetype": "text/x-python",
   "name": "python",
   "nbconvert_exporter": "python",
   "pygments_lexer": "ipython3",
   "version": "3.12.3"
  }
 },
 "nbformat": 4,
 "nbformat_minor": 2
}
